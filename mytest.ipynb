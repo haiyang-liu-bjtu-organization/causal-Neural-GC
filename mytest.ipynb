{
 "cells": [
  {
   "cell_type": "code",
   "execution_count": null,
   "id": "initial_id",
   "metadata": {
    "collapsed": true
   },
   "outputs": [],
   "source": [
    "root_path = 'datasets/lorenz'\n",
    "\n",
    "# 遍历文件夹结构\n",
    "for folder1 in os.listdir(root_path):\n",
    "    folder1_path = root_path + '/' + folder1\n",
    "    for folder2 in os.listdir(folder1_path):\n",
    "        folder2_path = folder1_path + '/' + folder2\n",
    "        for file in os.listdir(folder2_path):\n",
    "            if file.endswith('.npz'):\n",
    "                file_path = folder2_path + '/' + file\n",
    "                print(file_path)"
   ]
  }
 ],
 "metadata": {
  "kernelspec": {
   "display_name": "Python 3",
   "language": "python",
   "name": "python3"
  },
  "language_info": {
   "codemirror_mode": {
    "name": "ipython",
    "version": 2
   },
   "file_extension": ".py",
   "mimetype": "text/x-python",
   "name": "python",
   "nbconvert_exporter": "python",
   "pygments_lexer": "ipython2",
   "version": "2.7.6"
  }
 },
 "nbformat": 4,
 "nbformat_minor": 5
}
